{
 "cells": [
  {
   "cell_type": "markdown",
   "id": "1e1c605e-87a3-4014-9f9b-e50df53d667d",
   "metadata": {},
   "source": [
    "# Customer Behavior Analysis"
   ]
  },
  {
   "cell_type": "code",
   "execution_count": 3,
   "id": "55d824c5-ba8d-4882-915a-0520388d863b",
   "metadata": {},
   "outputs": [
    {
     "name": "stdout",
     "output_type": "stream",
     "text": [
      "Requirement already satisfied: mysql-connector-python in d:\\ds\\lib\\site-packages (9.2.0)\n"
     ]
    }
   ],
   "source": [
    "!pip install mysql-connector-python"
   ]
  },
  {
   "cell_type": "code",
   "execution_count": 4,
   "id": "324cbf69-5af3-4912-b96a-ca86b691e435",
   "metadata": {},
   "outputs": [],
   "source": [
    "import mysql.connector as db"
   ]
  },
  {
   "cell_type": "code",
   "execution_count": 5,
   "id": "08d5ecaf-6d1d-45b0-a8b7-7917cadfa9d0",
   "metadata": {},
   "outputs": [],
   "source": [
    "import pandas as pd"
   ]
  },
  {
   "cell_type": "code",
   "execution_count": 6,
   "id": "760f0d4a-5e1f-4ae1-9209-dfd5eb4ef9e2",
   "metadata": {},
   "outputs": [],
   "source": [
    "user = 'Feb_23'\n",
    "passcode = 'qwerty'\n",
    "host = 'localhost'\n",
    "db_name = 'ds_ba'"
   ]
  },
  {
   "cell_type": "markdown",
   "id": "5cb4be01-f218-4e09-820d-be759e584c9f",
   "metadata": {},
   "source": [
    "# SQL DB Connection"
   ]
  },
  {
   "cell_type": "code",
   "execution_count": 7,
   "id": "ef07a556-7b98-42f0-b8dc-8ba4152e5d04",
   "metadata": {},
   "outputs": [],
   "source": [
    "sql_connection = db.connect(\n",
    "    user = user,\n",
    "    host = host,\n",
    "    password = passcode,\n",
    "    database = db_name\n",
    ")"
   ]
  },
  {
   "cell_type": "code",
   "execution_count": 8,
   "id": "1eaa3de8-53f4-4629-812f-d80f7751277c",
   "metadata": {},
   "outputs": [
    {
     "data": {
      "text/plain": [
       "<mysql.connector.connection_cext.CMySQLConnection at 0x129629808c0>"
      ]
     },
     "execution_count": 8,
     "metadata": {},
     "output_type": "execute_result"
    }
   ],
   "source": [
    "sql_connection"
   ]
  },
  {
   "cell_type": "code",
   "execution_count": 9,
   "id": "d47f1e90-6725-44d1-980e-8e80252987ef",
   "metadata": {},
   "outputs": [],
   "source": [
    "curr = sql_connection.cursor()"
   ]
  },
  {
   "cell_type": "code",
   "execution_count": 10,
   "id": "ed61f016-3514-471e-8ffb-0edd423e0ced",
   "metadata": {},
   "outputs": [],
   "source": [
    "sql_1 = \"\"\"\n",
    "SELECT * FROM ds_ba.clean_customer_journey;\n",
    "\"\"\""
   ]
  },
  {
   "cell_type": "code",
   "execution_count": 11,
   "id": "40bcd0d1-3cda-49ed-93f6-3e342db1150f",
   "metadata": {},
   "outputs": [],
   "source": [
    "curr.execute(sql_1)"
   ]
  },
  {
   "cell_type": "code",
   "execution_count": 12,
   "id": "6a080850-c935-487f-9209-9aebc2c7601c",
   "metadata": {},
   "outputs": [],
   "source": [
    "data_row_journey = curr.fetchall()"
   ]
  },
  {
   "cell_type": "code",
   "execution_count": 13,
   "id": "3d0aa6c0-52a4-47ec-9802-73a355d79626",
   "metadata": {},
   "outputs": [
    {
     "data": {
      "text/plain": [
       "[(1, 64, 18, '6/10/2024', 'Checkout', 'Drop-off', 0),\n",
       " (2, 94, 11, '7/9/2025', 'Checkout', 'Drop-off', 0),\n",
       " (3, 34, 8, '6/14/2024', 'Product Page', 'View', 235),\n",
       " (4, 33, 18, '5/28/2025', 'Checkout', 'Drop-off', 0),\n",
       " (5, 91, 10, '2/11/2023', 'Homepage', 'Click', 156),\n",
       " (6, 54, 11, '12/19/2025', 'Homepage', 'View', 264),\n",
       " (7, 80, 4, '8/25/2023', 'Homepage', 'View', 298),\n",
       " (8, 99, 10, '7/3/2025', 'Product Page', 'View', 287),\n",
       " (9, 31, 4, '6/13/2025', 'Product Page', 'View', 278),\n",
       " (10, 44, 16, '4/23/2025', 'Product Page', 'View', 30),\n",
       " (11, 23, 12, '8/22/2023', 'Checkout', 'Drop-off', 0),\n",
       " (12, 97, 12, '7/28/2023', 'Product Page', 'View', 227),\n",
       " (13, 83, 5, '6/20/2024', 'Homepage', 'View', 223),\n",
       " (14, 14, 13, '11/1/2025', 'Product Page', 'View', 13),\n",
       " (15, 9, 1, '11/4/2025', 'Product Page', 'View', 292),\n",
       " (16, 14, 16, '7/17/2024', 'Homepage', 'View', 46),\n",
       " (17, 67, 2, '12/11/2025', 'Homepage', 'View', 185),\n",
       " (18, 70, 15, '10/13/2025', 'Homepage', 'View', 191),\n",
       " (19, 9, 1, '8/15/2024', 'Homepage', 'View', 187),\n",
       " (20, 44, 18, '2/19/2024', 'Product Page', 'View', 154),\n",
       " (21, 58, 20, '3/7/2024', 'Checkout', 'Drop-off', 0),\n",
       " (22, 12, 1, '11/19/2025', 'Homepage', 'Click', 20),\n",
       " (23, 58, 1, '7/5/2023', 'Homepage', 'View', 48),\n",
       " (24, 77, 6, '6/25/2025', 'Checkout', 'Drop-off', 0),\n",
       " (25, 75, 12, '11/23/2023', 'Product Page', 'View', 239),\n",
       " (26, 78, 20, '4/17/2024', 'Homepage', 'View', 129),\n",
       " (27, 36, 9, '8/10/2024', 'Homepage', 'View', 214),\n",
       " (28, 1, 20, '9/26/2025', 'Product Page', 'View', 64),\n",
       " (29, 12, 17, '6/1/2025', 'Homepage', 'View', 205),\n",
       " (30, 48, 2, '5/3/2023', 'Product Page', 'View', 242),\n",
       " (31, 81, 19, '4/4/2023', 'Homepage', 'View', 130),\n",
       " (32, 67, 11, '9/4/2023', 'Checkout', 'Drop-off', 0),\n",
       " (33, 2, 5, '8/10/2025', 'Homepage', 'View', 26),\n",
       " (34, 55, 15, '10/26/2023', 'Homepage', 'View', 233),\n",
       " (35, 60, 19, '6/21/2023', 'Homepage', 'Click', 162),\n",
       " (36, 17, 2, '11/20/2023', 'Checkout', 'Purchase', 137),\n",
       " (37, 38, 17, '6/18/2024', 'Checkout', 'Drop-off', 0),\n",
       " (38, 13, 18, '2/23/2023', 'Product Page', 'View', 227),\n",
       " (39, 63, 18, '8/10/2023', 'Product Page', 'View', 233),\n",
       " (40, 4, 12, '12/22/2024', 'Homepage', 'View', 110),\n",
       " (41, 92, 5, '11/23/2025', 'Product Page', 'View', 124),\n",
       " (42, 95, 10, '1/28/2025', 'Homepage', 'View', 172),\n",
       " (43, 21, 8, '3/14/2025', 'Homepage', 'View', 40),\n",
       " (44, 29, 3, '2/29/2024', 'Homepage', 'View', 193),\n",
       " (45, 94, 6, '6/7/2023', 'Product Page', 'View', 118),\n",
       " (46, 30, 19, '10/27/2025', 'Homepage', 'View', 210),\n",
       " (47, 30, 20, '2/18/2024', 'Checkout', 'Drop-off', 0),\n",
       " (48, 52, 13, '2/1/2025', 'Homepage', 'View', 241),\n",
       " (49, 93, 14, '4/9/2023', 'Homepage', 'Click', 69),\n",
       " (50, 5, 9, '4/19/2024', 'Homepage', 'View', 44),\n",
       " (51, 65, 8, '9/29/2025', 'Product Page', 'View', 272),\n",
       " (52, 15, 9, '8/7/2025', 'Checkout', 'Drop-off', 0),\n",
       " (53, 24, 4, '4/5/2024', 'Homepage', 'View', 182),\n",
       " (54, 9, 11, '11/19/2024', 'Checkout', 'Drop-off', 0),\n",
       " (55, 1, 7, '3/17/2024', 'Checkout', 'Drop-off', 0),\n",
       " (56, 97, 11, '12/20/2023', 'Homepage', 'Click', 234),\n",
       " (57, 52, 14, '12/2/2024', 'Homepage', 'View', 253),\n",
       " (58, 51, 20, '3/8/2025', 'Product Page', 'View', 174),\n",
       " (59, 32, 8, '8/19/2024', 'Homepage', 'View', 238),\n",
       " (60, 19, 6, '6/17/2025', 'Product Page', 'View', 190),\n",
       " (61, 69, 20, '7/12/2025', 'Homepage', 'Click', 14),\n",
       " (62, 42, 1, '10/22/2024', 'Homepage', 'View', 186),\n",
       " (63, 51, 15, '5/22/2025', 'Homepage', 'View', 139),\n",
       " (64, 86, 20, '7/3/2023', 'Product Page', 'View', 77),\n",
       " (65, 54, 10, '12/23/2023', 'Homepage', 'View', 101),\n",
       " (66, 52, 2, '11/16/2023', 'Homepage', 'Click', 242),\n",
       " (67, 25, 1, '5/21/2023', 'Product Page', 'Click', 57),\n",
       " (68, 45, 16, '4/29/2023', 'Product Page', 'Click', 250),\n",
       " (69, 82, 19, '2/21/2025', 'Product Page', 'Click', 158),\n",
       " (70, 75, 17, '7/7/2023', 'Homepage', 'View', 297),\n",
       " (71, 40, 20, '7/13/2023', 'Checkout', 'Drop-off', 0),\n",
       " (72, 47, 15, '8/23/2023', 'Homepage', 'Click', 34),\n",
       " (73, 20, 16, '9/17/2024', 'Homepage', 'View', 17),\n",
       " (74, 81, 13, '9/26/2024', 'Homepage', 'Click', 291),\n",
       " (75, 93, 1, '10/1/2024', 'Product Page', 'Click', 279),\n",
       " (76, 42, 17, '5/29/2025', 'Checkout', 'Purchase', 261),\n",
       " (77, 36, 4, '6/2/2023', 'Homepage', 'Click', 100),\n",
       " (78, 46, 17, '6/15/2025', 'Checkout', 'Purchase', 122),\n",
       " (79, 75, 10, '11/13/2023', 'Homepage', 'View', 244),\n",
       " (80, 64, 6, '4/6/2025', 'Homepage', 'Click', 161),\n",
       " (81, 89, 15, '10/27/2025', 'Checkout', 'Purchase', 246),\n",
       " (82, 64, 2, '6/7/2025', 'Homepage', 'Click', 261),\n",
       " (83, 54, 8, '1/18/2024', 'Product Page', 'Click', 83),\n",
       " (84, 79, 15, '3/9/2025', 'Checkout', 'Purchase', 48),\n",
       " (85, 56, 4, '5/26/2023', 'Homepage', 'Click', 166),\n",
       " (86, 83, 3, '9/6/2023', 'Homepage', 'View', 79),\n",
       " (87, 2, 2, '9/25/2023', 'Homepage', 'View', 277),\n",
       " (88, 15, 20, '12/18/2025', 'Homepage', 'View', 136),\n",
       " (89, 14, 9, '4/18/2025', 'Homepage', 'Click', 104),\n",
       " (90, 49, 8, '3/25/2025', 'Homepage', 'View', 248),\n",
       " (91, 99, 10, '12/7/2023', 'Homepage', 'Click', 244),\n",
       " (92, 88, 14, '3/9/2025', 'Homepage', 'View', 29),\n",
       " (93, 43, 8, '8/22/2023', 'Checkout', 'Drop-off', 0),\n",
       " (94, 15, 18, '9/20/2024', 'Homepage', 'Click', 143),\n",
       " (95, 60, 8, '9/14/2024', 'Homepage', 'View', 182),\n",
       " (96, 22, 9, '7/28/2024', 'Product Page', 'View', 212),\n",
       " (97, 92, 19, '5/26/2025', 'Homepage', 'View', 203),\n",
       " (98, 95, 8, '5/25/2025', 'Homepage', 'Click', 68),\n",
       " (99, 58, 16, '7/6/2024', 'Checkout', 'Purchase', 87),\n",
       " (100, 92, 10, '4/6/2024', 'Product Page', 'View', 237)]"
      ]
     },
     "execution_count": 13,
     "metadata": {},
     "output_type": "execute_result"
    }
   ],
   "source": [
    "data_row_journey"
   ]
  },
  {
   "cell_type": "code",
   "execution_count": 14,
   "id": "7616fe1c-29c0-4eaf-a838-afbc574da894",
   "metadata": {},
   "outputs": [
    {
     "data": {
      "text/plain": [
       "('JourneyID',\n",
       " 'CustomerID',\n",
       " 'ProductID',\n",
       " 'VisitDate',\n",
       " 'Stage',\n",
       " 'Action',\n",
       " 'Duration')"
      ]
     },
     "execution_count": 14,
     "metadata": {},
     "output_type": "execute_result"
    }
   ],
   "source": [
    "curr.column_names"
   ]
  },
  {
   "cell_type": "markdown",
   "id": "65024c69-9e84-474c-bef3-4bf9cd2d6bff",
   "metadata": {},
   "source": [
    "# Data Frame"
   ]
  },
  {
   "cell_type": "code",
   "execution_count": 15,
   "id": "22bcc1d2-e9d1-4cef-b5c4-1d7e1ebee3c2",
   "metadata": {},
   "outputs": [],
   "source": [
    "customer_journey = pd.DataFrame(data_row_journey, columns=curr.column_names)"
   ]
  },
  {
   "cell_type": "code",
   "execution_count": 16,
   "id": "841df9bd-de24-4399-aa72-63971adefbe1",
   "metadata": {},
   "outputs": [
    {
     "data": {
      "text/html": [
       "<div>\n",
       "<style scoped>\n",
       "    .dataframe tbody tr th:only-of-type {\n",
       "        vertical-align: middle;\n",
       "    }\n",
       "\n",
       "    .dataframe tbody tr th {\n",
       "        vertical-align: top;\n",
       "    }\n",
       "\n",
       "    .dataframe thead th {\n",
       "        text-align: right;\n",
       "    }\n",
       "</style>\n",
       "<table border=\"1\" class=\"dataframe\">\n",
       "  <thead>\n",
       "    <tr style=\"text-align: right;\">\n",
       "      <th></th>\n",
       "      <th>JourneyID</th>\n",
       "      <th>CustomerID</th>\n",
       "      <th>ProductID</th>\n",
       "      <th>VisitDate</th>\n",
       "      <th>Stage</th>\n",
       "      <th>Action</th>\n",
       "      <th>Duration</th>\n",
       "    </tr>\n",
       "  </thead>\n",
       "  <tbody>\n",
       "    <tr>\n",
       "      <th>0</th>\n",
       "      <td>1</td>\n",
       "      <td>64</td>\n",
       "      <td>18</td>\n",
       "      <td>6/10/2024</td>\n",
       "      <td>Checkout</td>\n",
       "      <td>Drop-off</td>\n",
       "      <td>0</td>\n",
       "    </tr>\n",
       "    <tr>\n",
       "      <th>1</th>\n",
       "      <td>2</td>\n",
       "      <td>94</td>\n",
       "      <td>11</td>\n",
       "      <td>7/9/2025</td>\n",
       "      <td>Checkout</td>\n",
       "      <td>Drop-off</td>\n",
       "      <td>0</td>\n",
       "    </tr>\n",
       "    <tr>\n",
       "      <th>2</th>\n",
       "      <td>3</td>\n",
       "      <td>34</td>\n",
       "      <td>8</td>\n",
       "      <td>6/14/2024</td>\n",
       "      <td>Product Page</td>\n",
       "      <td>View</td>\n",
       "      <td>235</td>\n",
       "    </tr>\n",
       "    <tr>\n",
       "      <th>3</th>\n",
       "      <td>4</td>\n",
       "      <td>33</td>\n",
       "      <td>18</td>\n",
       "      <td>5/28/2025</td>\n",
       "      <td>Checkout</td>\n",
       "      <td>Drop-off</td>\n",
       "      <td>0</td>\n",
       "    </tr>\n",
       "    <tr>\n",
       "      <th>4</th>\n",
       "      <td>5</td>\n",
       "      <td>91</td>\n",
       "      <td>10</td>\n",
       "      <td>2/11/2023</td>\n",
       "      <td>Homepage</td>\n",
       "      <td>Click</td>\n",
       "      <td>156</td>\n",
       "    </tr>\n",
       "    <tr>\n",
       "      <th>...</th>\n",
       "      <td>...</td>\n",
       "      <td>...</td>\n",
       "      <td>...</td>\n",
       "      <td>...</td>\n",
       "      <td>...</td>\n",
       "      <td>...</td>\n",
       "      <td>...</td>\n",
       "    </tr>\n",
       "    <tr>\n",
       "      <th>95</th>\n",
       "      <td>96</td>\n",
       "      <td>22</td>\n",
       "      <td>9</td>\n",
       "      <td>7/28/2024</td>\n",
       "      <td>Product Page</td>\n",
       "      <td>View</td>\n",
       "      <td>212</td>\n",
       "    </tr>\n",
       "    <tr>\n",
       "      <th>96</th>\n",
       "      <td>97</td>\n",
       "      <td>92</td>\n",
       "      <td>19</td>\n",
       "      <td>5/26/2025</td>\n",
       "      <td>Homepage</td>\n",
       "      <td>View</td>\n",
       "      <td>203</td>\n",
       "    </tr>\n",
       "    <tr>\n",
       "      <th>97</th>\n",
       "      <td>98</td>\n",
       "      <td>95</td>\n",
       "      <td>8</td>\n",
       "      <td>5/25/2025</td>\n",
       "      <td>Homepage</td>\n",
       "      <td>Click</td>\n",
       "      <td>68</td>\n",
       "    </tr>\n",
       "    <tr>\n",
       "      <th>98</th>\n",
       "      <td>99</td>\n",
       "      <td>58</td>\n",
       "      <td>16</td>\n",
       "      <td>7/6/2024</td>\n",
       "      <td>Checkout</td>\n",
       "      <td>Purchase</td>\n",
       "      <td>87</td>\n",
       "    </tr>\n",
       "    <tr>\n",
       "      <th>99</th>\n",
       "      <td>100</td>\n",
       "      <td>92</td>\n",
       "      <td>10</td>\n",
       "      <td>4/6/2024</td>\n",
       "      <td>Product Page</td>\n",
       "      <td>View</td>\n",
       "      <td>237</td>\n",
       "    </tr>\n",
       "  </tbody>\n",
       "</table>\n",
       "<p>100 rows × 7 columns</p>\n",
       "</div>"
      ],
      "text/plain": [
       "    JourneyID  CustomerID  ProductID  VisitDate         Stage    Action  \\\n",
       "0           1          64         18  6/10/2024      Checkout  Drop-off   \n",
       "1           2          94         11   7/9/2025      Checkout  Drop-off   \n",
       "2           3          34          8  6/14/2024  Product Page      View   \n",
       "3           4          33         18  5/28/2025      Checkout  Drop-off   \n",
       "4           5          91         10  2/11/2023      Homepage     Click   \n",
       "..        ...         ...        ...        ...           ...       ...   \n",
       "95         96          22          9  7/28/2024  Product Page      View   \n",
       "96         97          92         19  5/26/2025      Homepage      View   \n",
       "97         98          95          8  5/25/2025      Homepage     Click   \n",
       "98         99          58         16   7/6/2024      Checkout  Purchase   \n",
       "99        100          92         10   4/6/2024  Product Page      View   \n",
       "\n",
       "    Duration  \n",
       "0          0  \n",
       "1          0  \n",
       "2        235  \n",
       "3          0  \n",
       "4        156  \n",
       "..       ...  \n",
       "95       212  \n",
       "96       203  \n",
       "97        68  \n",
       "98        87  \n",
       "99       237  \n",
       "\n",
       "[100 rows x 7 columns]"
      ]
     },
     "execution_count": 16,
     "metadata": {},
     "output_type": "execute_result"
    }
   ],
   "source": [
    "customer_journey"
   ]
  },
  {
   "cell_type": "markdown",
   "id": "24a4c66b-0720-41c5-b7a7-00ea9a06e743",
   "metadata": {},
   "source": [
    "# Customer Drop-off Analysis"
   ]
  },
  {
   "cell_type": "code",
   "execution_count": 17,
   "id": "f8e59640-6fd9-49b3-97cf-a0e4338a07f1",
   "metadata": {},
   "outputs": [],
   "source": [
    "sql_2 = \"\"\"\n",
    "SELECT Stage, Action, \n",
    "COUNT(Action) AS Action_count\n",
    "FROM ds_ba.clean_customer_journey\n",
    "GROUP BY Stage, Action;\n",
    "\"\"\""
   ]
  },
  {
   "cell_type": "code",
   "execution_count": 18,
   "id": "f29acd42-dc26-43ed-b28a-a6205391e85e",
   "metadata": {},
   "outputs": [],
   "source": [
    "curr.execute(sql_2)"
   ]
  },
  {
   "cell_type": "code",
   "execution_count": 19,
   "id": "2d0ae52f-1e8b-463f-8eed-29a27e932bd3",
   "metadata": {},
   "outputs": [],
   "source": [
    "Action_row = curr.fetchall()"
   ]
  },
  {
   "cell_type": "code",
   "execution_count": 20,
   "id": "11622190-f2a7-4a57-b9ab-66b6e39a5919",
   "metadata": {},
   "outputs": [
    {
     "data": {
      "text/plain": [
       "[('Checkout', 'Drop-off', 14),\n",
       " ('Product Page', 'View', 21),\n",
       " ('Homepage', 'Click', 17),\n",
       " ('Homepage', 'View', 37),\n",
       " ('Checkout', 'Purchase', 6),\n",
       " ('Product Page', 'Click', 5)]"
      ]
     },
     "execution_count": 20,
     "metadata": {},
     "output_type": "execute_result"
    }
   ],
   "source": [
    "Action_row"
   ]
  },
  {
   "cell_type": "code",
   "execution_count": 21,
   "id": "19f7f6c7-3ed0-4b02-8989-60008186dbdc",
   "metadata": {},
   "outputs": [
    {
     "data": {
      "text/plain": [
       "('Stage', 'Action', 'Action_count')"
      ]
     },
     "execution_count": 21,
     "metadata": {},
     "output_type": "execute_result"
    }
   ],
   "source": [
    "curr.column_names"
   ]
  },
  {
   "cell_type": "code",
   "execution_count": 22,
   "id": "f5f104b7-97df-4b97-918e-234fff07024a",
   "metadata": {},
   "outputs": [],
   "source": [
    "Action_count = pd.DataFrame(Action_row, columns=curr.column_names)"
   ]
  },
  {
   "cell_type": "code",
   "execution_count": 23,
   "id": "25b258ba-8843-4e29-9836-5762dd5b2a57",
   "metadata": {},
   "outputs": [
    {
     "data": {
      "text/html": [
       "<div>\n",
       "<style scoped>\n",
       "    .dataframe tbody tr th:only-of-type {\n",
       "        vertical-align: middle;\n",
       "    }\n",
       "\n",
       "    .dataframe tbody tr th {\n",
       "        vertical-align: top;\n",
       "    }\n",
       "\n",
       "    .dataframe thead th {\n",
       "        text-align: right;\n",
       "    }\n",
       "</style>\n",
       "<table border=\"1\" class=\"dataframe\">\n",
       "  <thead>\n",
       "    <tr style=\"text-align: right;\">\n",
       "      <th></th>\n",
       "      <th>Stage</th>\n",
       "      <th>Action</th>\n",
       "      <th>Action_count</th>\n",
       "    </tr>\n",
       "  </thead>\n",
       "  <tbody>\n",
       "    <tr>\n",
       "      <th>0</th>\n",
       "      <td>Checkout</td>\n",
       "      <td>Drop-off</td>\n",
       "      <td>14</td>\n",
       "    </tr>\n",
       "    <tr>\n",
       "      <th>1</th>\n",
       "      <td>Product Page</td>\n",
       "      <td>View</td>\n",
       "      <td>21</td>\n",
       "    </tr>\n",
       "    <tr>\n",
       "      <th>2</th>\n",
       "      <td>Homepage</td>\n",
       "      <td>Click</td>\n",
       "      <td>17</td>\n",
       "    </tr>\n",
       "    <tr>\n",
       "      <th>3</th>\n",
       "      <td>Homepage</td>\n",
       "      <td>View</td>\n",
       "      <td>37</td>\n",
       "    </tr>\n",
       "    <tr>\n",
       "      <th>4</th>\n",
       "      <td>Checkout</td>\n",
       "      <td>Purchase</td>\n",
       "      <td>6</td>\n",
       "    </tr>\n",
       "    <tr>\n",
       "      <th>5</th>\n",
       "      <td>Product Page</td>\n",
       "      <td>Click</td>\n",
       "      <td>5</td>\n",
       "    </tr>\n",
       "  </tbody>\n",
       "</table>\n",
       "</div>"
      ],
      "text/plain": [
       "          Stage    Action  Action_count\n",
       "0      Checkout  Drop-off            14\n",
       "1  Product Page      View            21\n",
       "2      Homepage     Click            17\n",
       "3      Homepage      View            37\n",
       "4      Checkout  Purchase             6\n",
       "5  Product Page     Click             5"
      ]
     },
     "execution_count": 23,
     "metadata": {},
     "output_type": "execute_result"
    }
   ],
   "source": [
    "Action_count"
   ]
  },
  {
   "cell_type": "code",
   "execution_count": 24,
   "id": "9ea79490-e901-47c9-bd21-e87d9d2ce196",
   "metadata": {},
   "outputs": [],
   "source": [
    "sql_3 = \"\"\"\n",
    "SELECT Stage, COUNT(Action) AS DropOffCount\n",
    "FROM ds_ba.clean_customer_journey\n",
    "WHERE Action = 'Drop-off'\n",
    "GROUP BY Stage;\n",
    "\"\"\""
   ]
  },
  {
   "cell_type": "code",
   "execution_count": 25,
   "id": "fa751ae3-8388-45f3-a8da-759872042a09",
   "metadata": {},
   "outputs": [],
   "source": [
    "curr.execute(sql_3)"
   ]
  },
  {
   "cell_type": "code",
   "execution_count": 26,
   "id": "af11d0ad-88a5-428f-89c6-293c1c03c098",
   "metadata": {},
   "outputs": [],
   "source": [
    "d_row = curr.fetchall()"
   ]
  },
  {
   "cell_type": "code",
   "execution_count": 27,
   "id": "6cfb6e51-632b-42d4-a833-0c031a4f8964",
   "metadata": {},
   "outputs": [
    {
     "data": {
      "text/plain": [
       "[('Checkout', 14)]"
      ]
     },
     "execution_count": 27,
     "metadata": {},
     "output_type": "execute_result"
    }
   ],
   "source": [
    "d_row"
   ]
  },
  {
   "cell_type": "code",
   "execution_count": 28,
   "id": "998f6a71-4c05-47fc-aaf0-05c1fc3dca9d",
   "metadata": {},
   "outputs": [
    {
     "data": {
      "text/plain": [
       "('Stage', 'DropOffCount')"
      ]
     },
     "execution_count": 28,
     "metadata": {},
     "output_type": "execute_result"
    }
   ],
   "source": [
    "curr.column_names"
   ]
  },
  {
   "cell_type": "code",
   "execution_count": 29,
   "id": "e6bb5a2a-3559-4727-9354-b69df9715826",
   "metadata": {},
   "outputs": [],
   "source": [
    "Dropoff_count =  pd.DataFrame(d_row, columns=curr.column_names)"
   ]
  },
  {
   "cell_type": "code",
   "execution_count": 30,
   "id": "dd0da495-9ddd-4fbf-bdd2-dd3604534ae2",
   "metadata": {},
   "outputs": [
    {
     "data": {
      "text/html": [
       "<div>\n",
       "<style scoped>\n",
       "    .dataframe tbody tr th:only-of-type {\n",
       "        vertical-align: middle;\n",
       "    }\n",
       "\n",
       "    .dataframe tbody tr th {\n",
       "        vertical-align: top;\n",
       "    }\n",
       "\n",
       "    .dataframe thead th {\n",
       "        text-align: right;\n",
       "    }\n",
       "</style>\n",
       "<table border=\"1\" class=\"dataframe\">\n",
       "  <thead>\n",
       "    <tr style=\"text-align: right;\">\n",
       "      <th></th>\n",
       "      <th>Stage</th>\n",
       "      <th>DropOffCount</th>\n",
       "    </tr>\n",
       "  </thead>\n",
       "  <tbody>\n",
       "    <tr>\n",
       "      <th>0</th>\n",
       "      <td>Checkout</td>\n",
       "      <td>14</td>\n",
       "    </tr>\n",
       "  </tbody>\n",
       "</table>\n",
       "</div>"
      ],
      "text/plain": [
       "      Stage  DropOffCount\n",
       "0  Checkout            14"
      ]
     },
     "execution_count": 30,
     "metadata": {},
     "output_type": "execute_result"
    }
   ],
   "source": [
    "Dropoff_count "
   ]
  },
  {
   "cell_type": "markdown",
   "id": "05ccfca0-12a7-4f20-9e0d-864f68fa1556",
   "metadata": {},
   "source": [
    "# Average duration per stage for engagement insights"
   ]
  },
  {
   "cell_type": "code",
   "execution_count": 31,
   "id": "ea2e3f96-f704-4697-a310-aaf44a579807",
   "metadata": {},
   "outputs": [],
   "source": [
    "sql_4 =\"\"\"\n",
    "SELECT Stage, \n",
    "AVG(Duration) AS Avg_Duration\n",
    "FROM ds_ba.clean_customer_journey\n",
    "GROUP BY Stage;\n",
    "\"\"\""
   ]
  },
  {
   "cell_type": "code",
   "execution_count": 32,
   "id": "94c85b4b-2ec0-4bad-acd0-e370afeb03e4",
   "metadata": {},
   "outputs": [],
   "source": [
    "curr.execute(sql_4)\n",
    "duration_row = curr.fetchall()"
   ]
  },
  {
   "cell_type": "code",
   "execution_count": 33,
   "id": "402b9922-86b8-40c0-a001-b12394c9b691",
   "metadata": {},
   "outputs": [
    {
     "data": {
      "text/plain": [
       "('Stage', 'Avg_Duration')"
      ]
     },
     "execution_count": 33,
     "metadata": {},
     "output_type": "execute_result"
    }
   ],
   "source": [
    "curr.column_names"
   ]
  },
  {
   "cell_type": "code",
   "execution_count": 34,
   "id": "e0fd2d2e-0a15-4a69-95e3-28707d9dd07d",
   "metadata": {},
   "outputs": [
    {
     "data": {
      "text/plain": [
       "[('Checkout', Decimal('45.0500')),\n",
       " ('Product Page', Decimal('182.7692')),\n",
       " ('Homepage', Decimal('160.5370'))]"
      ]
     },
     "execution_count": 34,
     "metadata": {},
     "output_type": "execute_result"
    }
   ],
   "source": [
    "duration_row"
   ]
  },
  {
   "cell_type": "code",
   "execution_count": 35,
   "id": "bc432329-e39c-4612-a91c-456bf5863157",
   "metadata": {},
   "outputs": [],
   "source": [
    "Average_duration = pd.DataFrame(duration_row, columns=curr.column_names)"
   ]
  },
  {
   "cell_type": "code",
   "execution_count": 36,
   "id": "560af6ab-b157-4b79-970d-ab0e80e02464",
   "metadata": {},
   "outputs": [
    {
     "data": {
      "text/html": [
       "<div>\n",
       "<style scoped>\n",
       "    .dataframe tbody tr th:only-of-type {\n",
       "        vertical-align: middle;\n",
       "    }\n",
       "\n",
       "    .dataframe tbody tr th {\n",
       "        vertical-align: top;\n",
       "    }\n",
       "\n",
       "    .dataframe thead th {\n",
       "        text-align: right;\n",
       "    }\n",
       "</style>\n",
       "<table border=\"1\" class=\"dataframe\">\n",
       "  <thead>\n",
       "    <tr style=\"text-align: right;\">\n",
       "      <th></th>\n",
       "      <th>Stage</th>\n",
       "      <th>Avg_Duration</th>\n",
       "    </tr>\n",
       "  </thead>\n",
       "  <tbody>\n",
       "    <tr>\n",
       "      <th>0</th>\n",
       "      <td>Checkout</td>\n",
       "      <td>45.0500</td>\n",
       "    </tr>\n",
       "    <tr>\n",
       "      <th>1</th>\n",
       "      <td>Product Page</td>\n",
       "      <td>182.7692</td>\n",
       "    </tr>\n",
       "    <tr>\n",
       "      <th>2</th>\n",
       "      <td>Homepage</td>\n",
       "      <td>160.5370</td>\n",
       "    </tr>\n",
       "  </tbody>\n",
       "</table>\n",
       "</div>"
      ],
      "text/plain": [
       "          Stage Avg_Duration\n",
       "0      Checkout      45.0500\n",
       "1  Product Page     182.7692\n",
       "2      Homepage     160.5370"
      ]
     },
     "execution_count": 36,
     "metadata": {},
     "output_type": "execute_result"
    }
   ],
   "source": [
    "Average_duration"
   ]
  },
  {
   "cell_type": "markdown",
   "id": "948c7696-0e39-4931-8c7f-87f6bfde5aaf",
   "metadata": {},
   "source": [
    "# Identify the Most Viewed Product Page"
   ]
  },
  {
   "cell_type": "code",
   "execution_count": 37,
   "id": "9a5164ab-f761-406b-91e7-4078c74a80fb",
   "metadata": {},
   "outputs": [],
   "source": [
    "sql_5 = \"\"\"\n",
    "SELECT ProductID, COUNT(*) AS View_Count\n",
    "FROM ds_ba.clean_customer_journey\n",
    "WHERE Stage = 'Product Page' AND Action = 'View'\n",
    "GROUP BY ProductID\n",
    "ORDER BY View_Count DESC\n",
    "LIMIT 1;\n",
    "\"\"\""
   ]
  },
  {
   "cell_type": "code",
   "execution_count": 38,
   "id": "ce45de18-3e28-4d9d-ac8c-09c3861e85d8",
   "metadata": {},
   "outputs": [],
   "source": [
    "curr.execute(sql_5)"
   ]
  },
  {
   "cell_type": "code",
   "execution_count": 39,
   "id": "e85f394e-6594-4b30-9410-981b6baf4ccf",
   "metadata": {},
   "outputs": [],
   "source": [
    "view_row = curr.fetchall()"
   ]
  },
  {
   "cell_type": "code",
   "execution_count": 40,
   "id": "bc9a065a-c3b1-43dd-9850-049da046d005",
   "metadata": {},
   "outputs": [
    {
     "data": {
      "text/plain": [
       "[(18, 3)]"
      ]
     },
     "execution_count": 40,
     "metadata": {},
     "output_type": "execute_result"
    }
   ],
   "source": [
    "view_row"
   ]
  },
  {
   "cell_type": "code",
   "execution_count": 41,
   "id": "b6ef0ff9-9fb1-4237-b8cb-0b6675c347b0",
   "metadata": {},
   "outputs": [
    {
     "data": {
      "text/plain": [
       "('ProductID', 'View_Count')"
      ]
     },
     "execution_count": 41,
     "metadata": {},
     "output_type": "execute_result"
    }
   ],
   "source": [
    "curr.column_names"
   ]
  },
  {
   "cell_type": "code",
   "execution_count": 42,
   "id": "6eefd2f7-364d-41de-90a2-eab75a4ed860",
   "metadata": {},
   "outputs": [],
   "source": [
    "product_view =  pd.DataFrame(view_row, columns=curr.column_names)"
   ]
  },
  {
   "cell_type": "code",
   "execution_count": 43,
   "id": "7344a152-5232-4252-98b4-548fb5196226",
   "metadata": {},
   "outputs": [
    {
     "data": {
      "text/html": [
       "<div>\n",
       "<style scoped>\n",
       "    .dataframe tbody tr th:only-of-type {\n",
       "        vertical-align: middle;\n",
       "    }\n",
       "\n",
       "    .dataframe tbody tr th {\n",
       "        vertical-align: top;\n",
       "    }\n",
       "\n",
       "    .dataframe thead th {\n",
       "        text-align: right;\n",
       "    }\n",
       "</style>\n",
       "<table border=\"1\" class=\"dataframe\">\n",
       "  <thead>\n",
       "    <tr style=\"text-align: right;\">\n",
       "      <th></th>\n",
       "      <th>ProductID</th>\n",
       "      <th>View_Count</th>\n",
       "    </tr>\n",
       "  </thead>\n",
       "  <tbody>\n",
       "    <tr>\n",
       "      <th>0</th>\n",
       "      <td>18</td>\n",
       "      <td>3</td>\n",
       "    </tr>\n",
       "  </tbody>\n",
       "</table>\n",
       "</div>"
      ],
      "text/plain": [
       "   ProductID  View_Count\n",
       "0         18           3"
      ]
     },
     "execution_count": 43,
     "metadata": {},
     "output_type": "execute_result"
    }
   ],
   "source": [
    "product_view"
   ]
  },
  {
   "cell_type": "markdown",
   "id": "dd9cdf66-c242-4d21-a789-c480772ec75e",
   "metadata": {},
   "source": [
    "# Identify Top Performing Products"
   ]
  },
  {
   "cell_type": "code",
   "execution_count": 44,
   "id": "245eb9b0-4a2c-4e8d-8333-18909f061ef3",
   "metadata": {},
   "outputs": [],
   "source": [
    "sql_6 = \"\"\"\n",
    "SELECT \n",
    "    ProductID, \n",
    "    COUNT(*) AS Total_Purchases,\n",
    "    RANK() OVER (ORDER BY COUNT(*) DESC) AS Purchase_Rank\n",
    "FROM ds_ba.clean_customer_journey\n",
    "WHERE Action = 'Purchase'\n",
    "GROUP BY ProductID\n",
    "LIMIT 5;\n",
    "\"\"\""
   ]
  },
  {
   "cell_type": "code",
   "execution_count": 45,
   "id": "f304523c-707a-4d79-8e35-9821c0f0f0b4",
   "metadata": {},
   "outputs": [],
   "source": [
    "curr.execute(sql_6)"
   ]
  },
  {
   "cell_type": "code",
   "execution_count": 116,
   "id": "b17e1490-fdb6-4a50-a251-c641613f122f",
   "metadata": {},
   "outputs": [],
   "source": [
    "pur_row = curr.fetchall()"
   ]
  },
  {
   "cell_type": "code",
   "execution_count": 117,
   "id": "875f3dea-9995-4bc9-9269-63fe10481648",
   "metadata": {},
   "outputs": [
    {
     "data": {
      "text/plain": [
       "[(17, 2, 1), (15, 2, 1), (2, 1, 3), (16, 1, 3)]"
      ]
     },
     "execution_count": 117,
     "metadata": {},
     "output_type": "execute_result"
    }
   ],
   "source": [
    "pur_row"
   ]
  },
  {
   "cell_type": "code",
   "execution_count": 118,
   "id": "ea436d8d-88b1-4b73-9f13-7e9b6b02ffd9",
   "metadata": {},
   "outputs": [
    {
     "data": {
      "text/plain": [
       "('ProductID', 'Total_Purchases', 'Purchase_Rank')"
      ]
     },
     "execution_count": 118,
     "metadata": {},
     "output_type": "execute_result"
    }
   ],
   "source": [
    "curr.column_names"
   ]
  },
  {
   "cell_type": "code",
   "execution_count": 119,
   "id": "8cabac23-eaf2-4fdf-905e-3a3911128cde",
   "metadata": {},
   "outputs": [],
   "source": [
    "Total_Purchases =  pd.DataFrame(pur_row, columns=curr.column_names)"
   ]
  },
  {
   "cell_type": "code",
   "execution_count": 120,
   "id": "c9dec8f3-70db-40cf-bb10-e09c6b9dbd7b",
   "metadata": {},
   "outputs": [
    {
     "data": {
      "text/html": [
       "<div>\n",
       "<style scoped>\n",
       "    .dataframe tbody tr th:only-of-type {\n",
       "        vertical-align: middle;\n",
       "    }\n",
       "\n",
       "    .dataframe tbody tr th {\n",
       "        vertical-align: top;\n",
       "    }\n",
       "\n",
       "    .dataframe thead th {\n",
       "        text-align: right;\n",
       "    }\n",
       "</style>\n",
       "<table border=\"1\" class=\"dataframe\">\n",
       "  <thead>\n",
       "    <tr style=\"text-align: right;\">\n",
       "      <th></th>\n",
       "      <th>ProductID</th>\n",
       "      <th>Total_Purchases</th>\n",
       "      <th>Purchase_Rank</th>\n",
       "    </tr>\n",
       "  </thead>\n",
       "  <tbody>\n",
       "    <tr>\n",
       "      <th>0</th>\n",
       "      <td>17</td>\n",
       "      <td>2</td>\n",
       "      <td>1</td>\n",
       "    </tr>\n",
       "    <tr>\n",
       "      <th>1</th>\n",
       "      <td>15</td>\n",
       "      <td>2</td>\n",
       "      <td>1</td>\n",
       "    </tr>\n",
       "    <tr>\n",
       "      <th>2</th>\n",
       "      <td>2</td>\n",
       "      <td>1</td>\n",
       "      <td>3</td>\n",
       "    </tr>\n",
       "    <tr>\n",
       "      <th>3</th>\n",
       "      <td>16</td>\n",
       "      <td>1</td>\n",
       "      <td>3</td>\n",
       "    </tr>\n",
       "  </tbody>\n",
       "</table>\n",
       "</div>"
      ],
      "text/plain": [
       "   ProductID  Total_Purchases  Purchase_Rank\n",
       "0         17                2              1\n",
       "1         15                2              1\n",
       "2          2                1              3\n",
       "3         16                1              3"
      ]
     },
     "execution_count": 120,
     "metadata": {},
     "output_type": "execute_result"
    }
   ],
   "source": [
    "Total_Purchases"
   ]
  },
  {
   "cell_type": "code",
   "execution_count": null,
   "id": "55cd3437-57f7-4433-a514-64e56232cc6e",
   "metadata": {},
   "outputs": [],
   "source": [
    "# ProductID 17 and 15 are Top Performing Products"
   ]
  },
  {
   "cell_type": "markdown",
   "id": "fc7f8053-1247-409a-82e2-94fe329c6d76",
   "metadata": {},
   "source": [
    "# Best-performing products per region"
   ]
  },
  {
   "cell_type": "code",
   "execution_count": 107,
   "id": "db8bd928-984d-4807-b43e-cd7ba8689d1c",
   "metadata": {},
   "outputs": [],
   "source": [
    "sql_7 = \"\"\"\n",
    "select B.GeographyID, A.ProductID,\n",
    "Count(A.CustomerID) AS Total_Purchases\n",
    "from \n",
    "ds_ba.clean_customer_journey A\n",
    "JOIN\n",
    "ds_ba.customers B\n",
    "ON A. CustomerID = B. CustomerID\n",
    "where A.Action = 'Purchase'\n",
    "GROUP BY B.GeographyID, A.ProductID\n",
    "ORDER BY Total_Purchases DESC\n",
    "\"\"\""
   ]
  },
  {
   "cell_type": "code",
   "execution_count": 108,
   "id": "20705c10-9288-4c38-8a7d-b6b503a326bd",
   "metadata": {},
   "outputs": [],
   "source": [
    "curr.execute(sql_7)"
   ]
  },
  {
   "cell_type": "code",
   "execution_count": 109,
   "id": "a229459f-639a-4daf-8dfc-802c7ddf8180",
   "metadata": {},
   "outputs": [],
   "source": [
    "Geo_row = curr.fetchall()"
   ]
  },
  {
   "cell_type": "code",
   "execution_count": 110,
   "id": "82f3a1a9-78fe-405a-ba0a-cdc613dcd8d9",
   "metadata": {},
   "outputs": [
    {
     "data": {
      "text/plain": [
       "[(2, 2, 1), (1, 17, 1), (4, 17, 1), (10, 16, 1), (6, 15, 1), (8, 15, 1)]"
      ]
     },
     "execution_count": 110,
     "metadata": {},
     "output_type": "execute_result"
    }
   ],
   "source": [
    "Geo_row "
   ]
  },
  {
   "cell_type": "code",
   "execution_count": 111,
   "id": "5273c06e-880b-4f7e-828c-3127bafdd7a4",
   "metadata": {},
   "outputs": [
    {
     "data": {
      "text/plain": [
       "('GeographyID', 'ProductID', 'Total_Purchases')"
      ]
     },
     "execution_count": 111,
     "metadata": {},
     "output_type": "execute_result"
    }
   ],
   "source": [
    "curr.column_names"
   ]
  },
  {
   "cell_type": "code",
   "execution_count": 112,
   "id": "98f933ac-7e79-470d-a7a7-e12b5c6e5974",
   "metadata": {},
   "outputs": [],
   "source": [
    "Geography = pd.DataFrame(Geo_row , columns=curr.column_names)"
   ]
  },
  {
   "cell_type": "code",
   "execution_count": 113,
   "id": "8d19bdd1-cd67-4349-982d-2530292c8529",
   "metadata": {},
   "outputs": [
    {
     "data": {
      "text/html": [
       "<div>\n",
       "<style scoped>\n",
       "    .dataframe tbody tr th:only-of-type {\n",
       "        vertical-align: middle;\n",
       "    }\n",
       "\n",
       "    .dataframe tbody tr th {\n",
       "        vertical-align: top;\n",
       "    }\n",
       "\n",
       "    .dataframe thead th {\n",
       "        text-align: right;\n",
       "    }\n",
       "</style>\n",
       "<table border=\"1\" class=\"dataframe\">\n",
       "  <thead>\n",
       "    <tr style=\"text-align: right;\">\n",
       "      <th></th>\n",
       "      <th>GeographyID</th>\n",
       "      <th>ProductID</th>\n",
       "      <th>Total_Purchases</th>\n",
       "    </tr>\n",
       "  </thead>\n",
       "  <tbody>\n",
       "    <tr>\n",
       "      <th>0</th>\n",
       "      <td>2</td>\n",
       "      <td>2</td>\n",
       "      <td>1</td>\n",
       "    </tr>\n",
       "    <tr>\n",
       "      <th>1</th>\n",
       "      <td>1</td>\n",
       "      <td>17</td>\n",
       "      <td>1</td>\n",
       "    </tr>\n",
       "    <tr>\n",
       "      <th>2</th>\n",
       "      <td>4</td>\n",
       "      <td>17</td>\n",
       "      <td>1</td>\n",
       "    </tr>\n",
       "    <tr>\n",
       "      <th>3</th>\n",
       "      <td>10</td>\n",
       "      <td>16</td>\n",
       "      <td>1</td>\n",
       "    </tr>\n",
       "    <tr>\n",
       "      <th>4</th>\n",
       "      <td>6</td>\n",
       "      <td>15</td>\n",
       "      <td>1</td>\n",
       "    </tr>\n",
       "    <tr>\n",
       "      <th>5</th>\n",
       "      <td>8</td>\n",
       "      <td>15</td>\n",
       "      <td>1</td>\n",
       "    </tr>\n",
       "  </tbody>\n",
       "</table>\n",
       "</div>"
      ],
      "text/plain": [
       "   GeographyID  ProductID  Total_Purchases\n",
       "0            2          2                1\n",
       "1            1         17                1\n",
       "2            4         17                1\n",
       "3           10         16                1\n",
       "4            6         15                1\n",
       "5            8         15                1"
      ]
     },
     "execution_count": 113,
     "metadata": {},
     "output_type": "execute_result"
    }
   ],
   "source": [
    "Geography"
   ]
  },
  {
   "cell_type": "markdown",
   "id": "b5ca145b-27d2-40ee-be29-daf9377ebf12",
   "metadata": {},
   "source": [
    "# Customer Reviews Impact on Purchase count"
   ]
  },
  {
   "cell_type": "code",
   "execution_count": 122,
   "id": "227a20a5-54b2-446e-aecd-d2bfb59e7dd7",
   "metadata": {},
   "outputs": [],
   "source": [
    "sql_8 = \"\"\"\n",
    "SELECT \n",
    "    C.ProductID,\n",
    "    ROUND(AVG(C.Rating),2) AS Avg_Rating,  -- Average rating rounded to 2 decimal places\n",
    "    COUNT(DISTINCT CASE WHEN A.Action = 'Purchase' THEN A.CustomerID END) AS Purchase_Count, \n",
    "    RANK() OVER (ORDER BY COUNT(CASE WHEN A.Action = 'Purchase' THEN 1 END) DESC) AS Purchase_Rank\n",
    "FROM ds_ba.customer_reviews C\n",
    "LEFT JOIN ds_ba.clean_customer_journey A \n",
    "    ON C.ProductID = A.ProductID\n",
    "GROUP BY C.ProductID;\n",
    "\"\"\""
   ]
  },
  {
   "cell_type": "code",
   "execution_count": 123,
   "id": "e8eecf1b-b350-48c0-ab2d-ae3f4eab3406",
   "metadata": {},
   "outputs": [],
   "source": [
    "curr .execute(sql_8)"
   ]
  },
  {
   "cell_type": "code",
   "execution_count": 124,
   "id": "271c3057-a150-4661-bce1-bb3b9ec590a8",
   "metadata": {},
   "outputs": [],
   "source": [
    "review_row = curr.fetchall()"
   ]
  },
  {
   "cell_type": "code",
   "execution_count": 125,
   "id": "eaf4d2ab-9486-4813-9b78-e0af87fd76b2",
   "metadata": {},
   "outputs": [
    {
     "data": {
      "text/plain": [
       "[(17, Decimal('3.89'), 2, 1),\n",
       " (15, Decimal('4.00'), 2, 2),\n",
       " (16, Decimal('3.40'), 1, 3),\n",
       " (2, Decimal('3.57'), 1, 4),\n",
       " (1, Decimal('4.00'), 0, 5),\n",
       " (3, Decimal('3.71'), 0, 5),\n",
       " (4, Decimal('3.00'), 0, 5),\n",
       " (5, Decimal('4.00'), 0, 5),\n",
       " (6, Decimal('3.86'), 0, 5),\n",
       " (7, Decimal('2.67'), 0, 5),\n",
       " (8, Decimal('5.00'), 0, 5),\n",
       " (9, Decimal('3.40'), 0, 5),\n",
       " (10, Decimal('3.50'), 0, 5),\n",
       " (11, Decimal('4.00'), 0, 5),\n",
       " (12, Decimal('3.00'), 0, 5),\n",
       " (13, Decimal('3.67'), 0, 5),\n",
       " (18, Decimal('4.00'), 0, 5),\n",
       " (19, Decimal('4.40'), 0, 5),\n",
       " (20, Decimal('4.00'), 0, 5)]"
      ]
     },
     "execution_count": 125,
     "metadata": {},
     "output_type": "execute_result"
    }
   ],
   "source": [
    "review_row"
   ]
  },
  {
   "cell_type": "code",
   "execution_count": 126,
   "id": "3a73b84b-bd35-455f-b449-e12cf6ce7848",
   "metadata": {},
   "outputs": [
    {
     "data": {
      "text/plain": [
       "('ProductID', 'Avg_Rating', 'Purchase_Count', 'Purchase_Rank')"
      ]
     },
     "execution_count": 126,
     "metadata": {},
     "output_type": "execute_result"
    }
   ],
   "source": [
    "curr.column_names"
   ]
  },
  {
   "cell_type": "code",
   "execution_count": 128,
   "id": "386b26af-1ef7-4a5f-a179-236d94ab3169",
   "metadata": {},
   "outputs": [],
   "source": [
    "Review = pd.DataFrame(review_row , columns=curr.column_names)"
   ]
  },
  {
   "cell_type": "code",
   "execution_count": 129,
   "id": "2a66b372-ef63-4f45-a42b-5e60d7e0dd9d",
   "metadata": {},
   "outputs": [
    {
     "data": {
      "text/html": [
       "<div>\n",
       "<style scoped>\n",
       "    .dataframe tbody tr th:only-of-type {\n",
       "        vertical-align: middle;\n",
       "    }\n",
       "\n",
       "    .dataframe tbody tr th {\n",
       "        vertical-align: top;\n",
       "    }\n",
       "\n",
       "    .dataframe thead th {\n",
       "        text-align: right;\n",
       "    }\n",
       "</style>\n",
       "<table border=\"1\" class=\"dataframe\">\n",
       "  <thead>\n",
       "    <tr style=\"text-align: right;\">\n",
       "      <th></th>\n",
       "      <th>ProductID</th>\n",
       "      <th>Avg_Rating</th>\n",
       "      <th>Purchase_Count</th>\n",
       "      <th>Purchase_Rank</th>\n",
       "    </tr>\n",
       "  </thead>\n",
       "  <tbody>\n",
       "    <tr>\n",
       "      <th>0</th>\n",
       "      <td>17</td>\n",
       "      <td>3.89</td>\n",
       "      <td>2</td>\n",
       "      <td>1</td>\n",
       "    </tr>\n",
       "    <tr>\n",
       "      <th>1</th>\n",
       "      <td>15</td>\n",
       "      <td>4.00</td>\n",
       "      <td>2</td>\n",
       "      <td>2</td>\n",
       "    </tr>\n",
       "    <tr>\n",
       "      <th>2</th>\n",
       "      <td>16</td>\n",
       "      <td>3.40</td>\n",
       "      <td>1</td>\n",
       "      <td>3</td>\n",
       "    </tr>\n",
       "    <tr>\n",
       "      <th>3</th>\n",
       "      <td>2</td>\n",
       "      <td>3.57</td>\n",
       "      <td>1</td>\n",
       "      <td>4</td>\n",
       "    </tr>\n",
       "    <tr>\n",
       "      <th>4</th>\n",
       "      <td>1</td>\n",
       "      <td>4.00</td>\n",
       "      <td>0</td>\n",
       "      <td>5</td>\n",
       "    </tr>\n",
       "    <tr>\n",
       "      <th>5</th>\n",
       "      <td>3</td>\n",
       "      <td>3.71</td>\n",
       "      <td>0</td>\n",
       "      <td>5</td>\n",
       "    </tr>\n",
       "    <tr>\n",
       "      <th>6</th>\n",
       "      <td>4</td>\n",
       "      <td>3.00</td>\n",
       "      <td>0</td>\n",
       "      <td>5</td>\n",
       "    </tr>\n",
       "    <tr>\n",
       "      <th>7</th>\n",
       "      <td>5</td>\n",
       "      <td>4.00</td>\n",
       "      <td>0</td>\n",
       "      <td>5</td>\n",
       "    </tr>\n",
       "    <tr>\n",
       "      <th>8</th>\n",
       "      <td>6</td>\n",
       "      <td>3.86</td>\n",
       "      <td>0</td>\n",
       "      <td>5</td>\n",
       "    </tr>\n",
       "    <tr>\n",
       "      <th>9</th>\n",
       "      <td>7</td>\n",
       "      <td>2.67</td>\n",
       "      <td>0</td>\n",
       "      <td>5</td>\n",
       "    </tr>\n",
       "    <tr>\n",
       "      <th>10</th>\n",
       "      <td>8</td>\n",
       "      <td>5.00</td>\n",
       "      <td>0</td>\n",
       "      <td>5</td>\n",
       "    </tr>\n",
       "    <tr>\n",
       "      <th>11</th>\n",
       "      <td>9</td>\n",
       "      <td>3.40</td>\n",
       "      <td>0</td>\n",
       "      <td>5</td>\n",
       "    </tr>\n",
       "    <tr>\n",
       "      <th>12</th>\n",
       "      <td>10</td>\n",
       "      <td>3.50</td>\n",
       "      <td>0</td>\n",
       "      <td>5</td>\n",
       "    </tr>\n",
       "    <tr>\n",
       "      <th>13</th>\n",
       "      <td>11</td>\n",
       "      <td>4.00</td>\n",
       "      <td>0</td>\n",
       "      <td>5</td>\n",
       "    </tr>\n",
       "    <tr>\n",
       "      <th>14</th>\n",
       "      <td>12</td>\n",
       "      <td>3.00</td>\n",
       "      <td>0</td>\n",
       "      <td>5</td>\n",
       "    </tr>\n",
       "    <tr>\n",
       "      <th>15</th>\n",
       "      <td>13</td>\n",
       "      <td>3.67</td>\n",
       "      <td>0</td>\n",
       "      <td>5</td>\n",
       "    </tr>\n",
       "    <tr>\n",
       "      <th>16</th>\n",
       "      <td>18</td>\n",
       "      <td>4.00</td>\n",
       "      <td>0</td>\n",
       "      <td>5</td>\n",
       "    </tr>\n",
       "    <tr>\n",
       "      <th>17</th>\n",
       "      <td>19</td>\n",
       "      <td>4.40</td>\n",
       "      <td>0</td>\n",
       "      <td>5</td>\n",
       "    </tr>\n",
       "    <tr>\n",
       "      <th>18</th>\n",
       "      <td>20</td>\n",
       "      <td>4.00</td>\n",
       "      <td>0</td>\n",
       "      <td>5</td>\n",
       "    </tr>\n",
       "  </tbody>\n",
       "</table>\n",
       "</div>"
      ],
      "text/plain": [
       "    ProductID Avg_Rating  Purchase_Count  Purchase_Rank\n",
       "0          17       3.89               2              1\n",
       "1          15       4.00               2              2\n",
       "2          16       3.40               1              3\n",
       "3           2       3.57               1              4\n",
       "4           1       4.00               0              5\n",
       "5           3       3.71               0              5\n",
       "6           4       3.00               0              5\n",
       "7           5       4.00               0              5\n",
       "8           6       3.86               0              5\n",
       "9           7       2.67               0              5\n",
       "10          8       5.00               0              5\n",
       "11          9       3.40               0              5\n",
       "12         10       3.50               0              5\n",
       "13         11       4.00               0              5\n",
       "14         12       3.00               0              5\n",
       "15         13       3.67               0              5\n",
       "16         18       4.00               0              5\n",
       "17         19       4.40               0              5\n",
       "18         20       4.00               0              5"
      ]
     },
     "execution_count": 129,
     "metadata": {},
     "output_type": "execute_result"
    }
   ],
   "source": [
    "Review"
   ]
  },
  {
   "cell_type": "code",
   "execution_count": 137,
   "id": "9efeea6a-7a32-48b1-84c7-35c9f4f0483c",
   "metadata": {},
   "outputs": [],
   "source": [
    "Review_rating = Review.sort_values(by=\"Purchase_Count\", ascending=False)"
   ]
  },
  {
   "cell_type": "code",
   "execution_count": 138,
   "id": "794d8b79-64b6-42cf-a0f1-5d83e5f23149",
   "metadata": {},
   "outputs": [
    {
     "data": {
      "text/html": [
       "<div>\n",
       "<style scoped>\n",
       "    .dataframe tbody tr th:only-of-type {\n",
       "        vertical-align: middle;\n",
       "    }\n",
       "\n",
       "    .dataframe tbody tr th {\n",
       "        vertical-align: top;\n",
       "    }\n",
       "\n",
       "    .dataframe thead th {\n",
       "        text-align: right;\n",
       "    }\n",
       "</style>\n",
       "<table border=\"1\" class=\"dataframe\">\n",
       "  <thead>\n",
       "    <tr style=\"text-align: right;\">\n",
       "      <th></th>\n",
       "      <th>ProductID</th>\n",
       "      <th>Avg_Rating</th>\n",
       "      <th>Purchase_Count</th>\n",
       "      <th>Purchase_Rank</th>\n",
       "    </tr>\n",
       "  </thead>\n",
       "  <tbody>\n",
       "    <tr>\n",
       "      <th>0</th>\n",
       "      <td>17</td>\n",
       "      <td>3.89</td>\n",
       "      <td>2</td>\n",
       "      <td>1</td>\n",
       "    </tr>\n",
       "    <tr>\n",
       "      <th>1</th>\n",
       "      <td>15</td>\n",
       "      <td>4.00</td>\n",
       "      <td>2</td>\n",
       "      <td>2</td>\n",
       "    </tr>\n",
       "    <tr>\n",
       "      <th>2</th>\n",
       "      <td>16</td>\n",
       "      <td>3.40</td>\n",
       "      <td>1</td>\n",
       "      <td>3</td>\n",
       "    </tr>\n",
       "    <tr>\n",
       "      <th>3</th>\n",
       "      <td>2</td>\n",
       "      <td>3.57</td>\n",
       "      <td>1</td>\n",
       "      <td>4</td>\n",
       "    </tr>\n",
       "    <tr>\n",
       "      <th>11</th>\n",
       "      <td>9</td>\n",
       "      <td>3.40</td>\n",
       "      <td>0</td>\n",
       "      <td>5</td>\n",
       "    </tr>\n",
       "  </tbody>\n",
       "</table>\n",
       "</div>"
      ],
      "text/plain": [
       "    ProductID Avg_Rating  Purchase_Count  Purchase_Rank\n",
       "0          17       3.89               2              1\n",
       "1          15       4.00               2              2\n",
       "2          16       3.40               1              3\n",
       "3           2       3.57               1              4\n",
       "11          9       3.40               0              5"
      ]
     },
     "execution_count": 138,
     "metadata": {},
     "output_type": "execute_result"
    }
   ],
   "source": [
    "Review_rating.head()"
   ]
  },
  {
   "cell_type": "code",
   "execution_count": null,
   "id": "46e96e7e-72c6-4f78-9b8d-e6b84f31e2ec",
   "metadata": {},
   "outputs": [],
   "source": [
    "# Avg_Rating ( 3 to 4) have more purchases"
   ]
  },
  {
   "cell_type": "markdown",
   "id": "0ca256c3-3fc8-46b4-888b-aa0ec855b629",
   "metadata": {},
   "source": [
    "# Identify Top Performing Customer Segments"
   ]
  },
  {
   "cell_type": "code",
   "execution_count": 139,
   "id": "e8e084b5-f59e-4266-9b87-3fdcf91e3341",
   "metadata": {},
   "outputs": [],
   "source": [
    "sql_9 = \"\"\"\n",
    "SELECT \n",
    "    CASE \n",
    "        WHEN C.Age < 25 THEN '18-24'\n",
    "        WHEN C.Age BETWEEN 25 AND 34 THEN '25-34'\n",
    "        WHEN C.Age BETWEEN 35 AND 44 THEN '35-44'\n",
    "        WHEN C.Age BETWEEN 45 AND 54 THEN '45-54'\n",
    "        ELSE '55+' \n",
    "    END AS Age_Group,\n",
    "    COUNT(*) AS Total_Purchases\n",
    "FROM ds_ba.clean_customer_journey A\n",
    "JOIN ds_ba.customers C ON A.CustomerID = C.CustomerID\n",
    "WHERE A.Action = 'Purchase'\n",
    "GROUP BY Age_Group\n",
    "ORDER BY Total_Purchases DESC;\n",
    "\"\"\""
   ]
  },
  {
   "cell_type": "code",
   "execution_count": 140,
   "id": "2e0ae8ef-29be-4db3-9eba-ec199391cb7b",
   "metadata": {},
   "outputs": [],
   "source": [
    "curr .execute(sql_9)"
   ]
  },
  {
   "cell_type": "code",
   "execution_count": 141,
   "id": "bb82d380-6cfc-4df7-838e-4be397d69bc6",
   "metadata": {},
   "outputs": [],
   "source": [
    "Age_row = curr.fetchall()"
   ]
  },
  {
   "cell_type": "code",
   "execution_count": 142,
   "id": "65fee242-e31a-4fac-84dc-7c1a7717df0e",
   "metadata": {},
   "outputs": [
    {
     "data": {
      "text/plain": [
       "[('45-54', 2), ('55+', 1), ('25-34', 1), ('35-44', 1), ('18-24', 1)]"
      ]
     },
     "execution_count": 142,
     "metadata": {},
     "output_type": "execute_result"
    }
   ],
   "source": [
    "Age_row"
   ]
  },
  {
   "cell_type": "code",
   "execution_count": 143,
   "id": "4cb08c56-b441-4fea-941b-6a723c4d0eb1",
   "metadata": {},
   "outputs": [
    {
     "data": {
      "text/plain": [
       "('Age_Group', 'Total_Purchases')"
      ]
     },
     "execution_count": 143,
     "metadata": {},
     "output_type": "execute_result"
    }
   ],
   "source": [
    "curr.column_names"
   ]
  },
  {
   "cell_type": "code",
   "execution_count": 144,
   "id": "fdc83611-3ab6-4660-bbb2-7abbf2aa4131",
   "metadata": {},
   "outputs": [],
   "source": [
    "Age_Group = pd.DataFrame(Age_row , columns=curr.column_names)"
   ]
  },
  {
   "cell_type": "code",
   "execution_count": 145,
   "id": "018bf5a8-40b3-4d42-8118-97f482959e21",
   "metadata": {},
   "outputs": [
    {
     "data": {
      "text/html": [
       "<div>\n",
       "<style scoped>\n",
       "    .dataframe tbody tr th:only-of-type {\n",
       "        vertical-align: middle;\n",
       "    }\n",
       "\n",
       "    .dataframe tbody tr th {\n",
       "        vertical-align: top;\n",
       "    }\n",
       "\n",
       "    .dataframe thead th {\n",
       "        text-align: right;\n",
       "    }\n",
       "</style>\n",
       "<table border=\"1\" class=\"dataframe\">\n",
       "  <thead>\n",
       "    <tr style=\"text-align: right;\">\n",
       "      <th></th>\n",
       "      <th>Age_Group</th>\n",
       "      <th>Total_Purchases</th>\n",
       "    </tr>\n",
       "  </thead>\n",
       "  <tbody>\n",
       "    <tr>\n",
       "      <th>0</th>\n",
       "      <td>45-54</td>\n",
       "      <td>2</td>\n",
       "    </tr>\n",
       "    <tr>\n",
       "      <th>1</th>\n",
       "      <td>55+</td>\n",
       "      <td>1</td>\n",
       "    </tr>\n",
       "    <tr>\n",
       "      <th>2</th>\n",
       "      <td>25-34</td>\n",
       "      <td>1</td>\n",
       "    </tr>\n",
       "    <tr>\n",
       "      <th>3</th>\n",
       "      <td>35-44</td>\n",
       "      <td>1</td>\n",
       "    </tr>\n",
       "    <tr>\n",
       "      <th>4</th>\n",
       "      <td>18-24</td>\n",
       "      <td>1</td>\n",
       "    </tr>\n",
       "  </tbody>\n",
       "</table>\n",
       "</div>"
      ],
      "text/plain": [
       "  Age_Group  Total_Purchases\n",
       "0     45-54                2\n",
       "1       55+                1\n",
       "2     25-34                1\n",
       "3     35-44                1\n",
       "4     18-24                1"
      ]
     },
     "execution_count": 145,
     "metadata": {},
     "output_type": "execute_result"
    }
   ],
   "source": [
    "Age_Group"
   ]
  },
  {
   "cell_type": "code",
   "execution_count": null,
   "id": "3f40ea7d-3432-4dd2-994f-6d31699b912b",
   "metadata": {},
   "outputs": [],
   "source": [
    "# Customers aged 45-54 make the most purchases 18-24 Lowest purchases"
   ]
  },
  {
   "cell_type": "markdown",
   "id": "d72261b9-1c46-4c59-b1c1-e6a5679f56d4",
   "metadata": {},
   "source": [
    "# Most Engaged Geographies (Views & Clicks)"
   ]
  },
  {
   "cell_type": "code",
   "execution_count": 158,
   "id": "e2a503b9-458e-4b9e-ae00-b2812129f1b7",
   "metadata": {},
   "outputs": [],
   "source": [
    "sql_10 = \"\"\"\n",
    "SELECT \n",
    "    C.GeographyID, \n",
    "    COUNT(*) AS Total_Interactions\n",
    "FROM ds_ba.clean_customer_journey A\n",
    "JOIN ds_ba.customers C ON A.CustomerID = C.CustomerID\n",
    "WHERE A.Action  IN ('View', 'Click')\n",
    "GROUP BY C.GeographyID\n",
    "ORDER BY Total_Interactions DESC\n",
    "Limit 5;\n",
    "\"\"\""
   ]
  },
  {
   "cell_type": "code",
   "execution_count": 159,
   "id": "872f3223-4787-44c5-85a3-725fcc3b28be",
   "metadata": {},
   "outputs": [],
   "source": [
    "curr .execute(sql_10)"
   ]
  },
  {
   "cell_type": "code",
   "execution_count": 160,
   "id": "1f20fbb9-ebc2-429a-8e50-cbfd6c18743b",
   "metadata": {},
   "outputs": [],
   "source": [
    "G_row = curr.fetchall()"
   ]
  },
  {
   "cell_type": "code",
   "execution_count": 161,
   "id": "92c77dc4-8e6e-4013-9de4-24c0d51a2e87",
   "metadata": {},
   "outputs": [
    {
     "data": {
      "text/plain": [
       "('GeographyID', 'Total_Interactions')"
      ]
     },
     "execution_count": 161,
     "metadata": {},
     "output_type": "execute_result"
    }
   ],
   "source": [
    "curr.column_names"
   ]
  },
  {
   "cell_type": "code",
   "execution_count": 162,
   "id": "eef7efee-4b2e-4c15-8e83-2ac5e4c2df8d",
   "metadata": {},
   "outputs": [],
   "source": [
    "Engaged_Geo = pd.DataFrame(G_row , columns=curr.column_names)"
   ]
  },
  {
   "cell_type": "code",
   "execution_count": 163,
   "id": "724242ac-a1cb-4119-9377-da8b8e186de4",
   "metadata": {},
   "outputs": [
    {
     "data": {
      "text/html": [
       "<div>\n",
       "<style scoped>\n",
       "    .dataframe tbody tr th:only-of-type {\n",
       "        vertical-align: middle;\n",
       "    }\n",
       "\n",
       "    .dataframe tbody tr th {\n",
       "        vertical-align: top;\n",
       "    }\n",
       "\n",
       "    .dataframe thead th {\n",
       "        text-align: right;\n",
       "    }\n",
       "</style>\n",
       "<table border=\"1\" class=\"dataframe\">\n",
       "  <thead>\n",
       "    <tr style=\"text-align: right;\">\n",
       "      <th></th>\n",
       "      <th>GeographyID</th>\n",
       "      <th>Total_Interactions</th>\n",
       "    </tr>\n",
       "  </thead>\n",
       "  <tbody>\n",
       "    <tr>\n",
       "      <th>0</th>\n",
       "      <td>4</td>\n",
       "      <td>14</td>\n",
       "    </tr>\n",
       "    <tr>\n",
       "      <th>1</th>\n",
       "      <td>9</td>\n",
       "      <td>13</td>\n",
       "    </tr>\n",
       "    <tr>\n",
       "      <th>2</th>\n",
       "      <td>5</td>\n",
       "      <td>10</td>\n",
       "    </tr>\n",
       "    <tr>\n",
       "      <th>3</th>\n",
       "      <td>7</td>\n",
       "      <td>8</td>\n",
       "    </tr>\n",
       "    <tr>\n",
       "      <th>4</th>\n",
       "      <td>1</td>\n",
       "      <td>8</td>\n",
       "    </tr>\n",
       "  </tbody>\n",
       "</table>\n",
       "</div>"
      ],
      "text/plain": [
       "   GeographyID  Total_Interactions\n",
       "0            4                  14\n",
       "1            9                  13\n",
       "2            5                  10\n",
       "3            7                   8\n",
       "4            1                   8"
      ]
     },
     "execution_count": 163,
     "metadata": {},
     "output_type": "execute_result"
    }
   ],
   "source": [
    "Engaged_Geo"
   ]
  },
  {
   "cell_type": "code",
   "execution_count": null,
   "id": "20825a46-b2e7-4a4c-b291-549e3527d012",
   "metadata": {},
   "outputs": [],
   "source": [
    "# GeographyID 4 has the highest engagement, meaning users there view & click more.\n",
    "\n",
    "# This could indicate high interest but possibly low conversion rates."
   ]
  },
  {
   "cell_type": "markdown",
   "id": "8f82a6d6-cd72-4adb-8e32-6ff30d7e1659",
   "metadata": {},
   "source": [
    "# Highest-Rated Products & Low-Rated Products"
   ]
  },
  {
   "cell_type": "code",
   "execution_count": 51,
   "id": "c17575f9-4da2-4013-9def-ed085677260c",
   "metadata": {},
   "outputs": [],
   "source": [
    "sql_11 = \"\"\"\n",
    "SELECT \n",
    "    ProductID,  \n",
    "    AVG(Rating) AS Avg_Rating\n",
    "FROM ds_ba.customer_reviews\n",
    "GROUP BY ProductID\n",
    "ORDER BY Avg_Rating DESC;\n",
    "\"\"\"\n"
   ]
  },
  {
   "cell_type": "code",
   "execution_count": 52,
   "id": "ff4cfdb1-477a-49bb-8f41-17027f46c95f",
   "metadata": {},
   "outputs": [],
   "source": [
    "curr.execute(sql_11)"
   ]
  },
  {
   "cell_type": "code",
   "execution_count": 53,
   "id": "2665cfc5-ba01-41cb-9536-86e26dce1f17",
   "metadata": {},
   "outputs": [],
   "source": [
    "Rate_row = curr.fetchall()"
   ]
  },
  {
   "cell_type": "code",
   "execution_count": 54,
   "id": "cba156ef-beb4-478a-923e-f35c3097ae35",
   "metadata": {},
   "outputs": [
    {
     "data": {
      "text/plain": [
       "[(8, Decimal('5.0000')),\n",
       " (19, Decimal('4.4000')),\n",
       " (18, Decimal('4.0000')),\n",
       " (15, Decimal('4.0000')),\n",
       " (1, Decimal('4.0000')),\n",
       " (11, Decimal('4.0000')),\n",
       " (20, Decimal('4.0000')),\n",
       " (5, Decimal('4.0000')),\n",
       " (17, Decimal('3.8889')),\n",
       " (6, Decimal('3.8571')),\n",
       " (3, Decimal('3.7143')),\n",
       " (13, Decimal('3.6667')),\n",
       " (2, Decimal('3.5714')),\n",
       " (10, Decimal('3.5000')),\n",
       " (9, Decimal('3.4000')),\n",
       " (16, Decimal('3.4000')),\n",
       " (4, Decimal('3.0000')),\n",
       " (12, Decimal('3.0000')),\n",
       " (7, Decimal('2.6667'))]"
      ]
     },
     "execution_count": 54,
     "metadata": {},
     "output_type": "execute_result"
    }
   ],
   "source": [
    "Rate_row"
   ]
  },
  {
   "cell_type": "code",
   "execution_count": 55,
   "id": "c7627ac0-b3d2-4122-8301-bf101f372aac",
   "metadata": {},
   "outputs": [
    {
     "data": {
      "text/plain": [
       "('ProductID', 'Avg_Rating')"
      ]
     },
     "execution_count": 55,
     "metadata": {},
     "output_type": "execute_result"
    }
   ],
   "source": [
    "curr.column_names"
   ]
  },
  {
   "cell_type": "code",
   "execution_count": 56,
   "id": "1b626c59-a7e5-45ea-860e-c5a9b6833a09",
   "metadata": {},
   "outputs": [],
   "source": [
    "Product_rating = pd.DataFrame(Rate_row , columns=curr.column_names)"
   ]
  },
  {
   "cell_type": "code",
   "execution_count": 57,
   "id": "e6cfa5b5-8f3a-48fe-bf22-83fa2dc3cef9",
   "metadata": {},
   "outputs": [
    {
     "data": {
      "text/html": [
       "<div>\n",
       "<style scoped>\n",
       "    .dataframe tbody tr th:only-of-type {\n",
       "        vertical-align: middle;\n",
       "    }\n",
       "\n",
       "    .dataframe tbody tr th {\n",
       "        vertical-align: top;\n",
       "    }\n",
       "\n",
       "    .dataframe thead th {\n",
       "        text-align: right;\n",
       "    }\n",
       "</style>\n",
       "<table border=\"1\" class=\"dataframe\">\n",
       "  <thead>\n",
       "    <tr style=\"text-align: right;\">\n",
       "      <th></th>\n",
       "      <th>ProductID</th>\n",
       "      <th>Avg_Rating</th>\n",
       "    </tr>\n",
       "  </thead>\n",
       "  <tbody>\n",
       "    <tr>\n",
       "      <th>0</th>\n",
       "      <td>8</td>\n",
       "      <td>5.0000</td>\n",
       "    </tr>\n",
       "    <tr>\n",
       "      <th>1</th>\n",
       "      <td>19</td>\n",
       "      <td>4.4000</td>\n",
       "    </tr>\n",
       "    <tr>\n",
       "      <th>2</th>\n",
       "      <td>18</td>\n",
       "      <td>4.0000</td>\n",
       "    </tr>\n",
       "    <tr>\n",
       "      <th>3</th>\n",
       "      <td>15</td>\n",
       "      <td>4.0000</td>\n",
       "    </tr>\n",
       "    <tr>\n",
       "      <th>4</th>\n",
       "      <td>1</td>\n",
       "      <td>4.0000</td>\n",
       "    </tr>\n",
       "  </tbody>\n",
       "</table>\n",
       "</div>"
      ],
      "text/plain": [
       "   ProductID Avg_Rating\n",
       "0          8     5.0000\n",
       "1         19     4.4000\n",
       "2         18     4.0000\n",
       "3         15     4.0000\n",
       "4          1     4.0000"
      ]
     },
     "execution_count": 57,
     "metadata": {},
     "output_type": "execute_result"
    }
   ],
   "source": [
    "Product_rating.head()"
   ]
  },
  {
   "cell_type": "markdown",
   "id": "ca1a6410-4ce2-42c8-8a2e-cc6db679e26d",
   "metadata": {},
   "source": [
    "# Low-Rated Products"
   ]
  },
  {
   "cell_type": "code",
   "execution_count": 58,
   "id": "90b9c7a0-2d4c-427a-9199-c36e7e7affee",
   "metadata": {},
   "outputs": [
    {
     "data": {
      "text/html": [
       "<div>\n",
       "<style scoped>\n",
       "    .dataframe tbody tr th:only-of-type {\n",
       "        vertical-align: middle;\n",
       "    }\n",
       "\n",
       "    .dataframe tbody tr th {\n",
       "        vertical-align: top;\n",
       "    }\n",
       "\n",
       "    .dataframe thead th {\n",
       "        text-align: right;\n",
       "    }\n",
       "</style>\n",
       "<table border=\"1\" class=\"dataframe\">\n",
       "  <thead>\n",
       "    <tr style=\"text-align: right;\">\n",
       "      <th></th>\n",
       "      <th>ProductID</th>\n",
       "      <th>Avg_Rating</th>\n",
       "    </tr>\n",
       "  </thead>\n",
       "  <tbody>\n",
       "    <tr>\n",
       "      <th>14</th>\n",
       "      <td>9</td>\n",
       "      <td>3.4000</td>\n",
       "    </tr>\n",
       "    <tr>\n",
       "      <th>15</th>\n",
       "      <td>16</td>\n",
       "      <td>3.4000</td>\n",
       "    </tr>\n",
       "    <tr>\n",
       "      <th>16</th>\n",
       "      <td>4</td>\n",
       "      <td>3.0000</td>\n",
       "    </tr>\n",
       "    <tr>\n",
       "      <th>17</th>\n",
       "      <td>12</td>\n",
       "      <td>3.0000</td>\n",
       "    </tr>\n",
       "    <tr>\n",
       "      <th>18</th>\n",
       "      <td>7</td>\n",
       "      <td>2.6667</td>\n",
       "    </tr>\n",
       "  </tbody>\n",
       "</table>\n",
       "</div>"
      ],
      "text/plain": [
       "    ProductID Avg_Rating\n",
       "14          9     3.4000\n",
       "15         16     3.4000\n",
       "16          4     3.0000\n",
       "17         12     3.0000\n",
       "18          7     2.6667"
      ]
     },
     "execution_count": 58,
     "metadata": {},
     "output_type": "execute_result"
    }
   ],
   "source": [
    "Product_rating.tail()"
   ]
  },
  {
   "cell_type": "code",
   "execution_count": null,
   "id": "56e37f64-cf28-4af5-82f9-9838b6c09b57",
   "metadata": {},
   "outputs": [],
   "source": []
  }
 ],
 "metadata": {
  "kernelspec": {
   "display_name": "Python 3 (ipykernel)",
   "language": "python",
   "name": "python3"
  },
  "language_info": {
   "codemirror_mode": {
    "name": "ipython",
    "version": 3
   },
   "file_extension": ".py",
   "mimetype": "text/x-python",
   "name": "python",
   "nbconvert_exporter": "python",
   "pygments_lexer": "ipython3",
   "version": "3.12.7"
  }
 },
 "nbformat": 4,
 "nbformat_minor": 5
}
